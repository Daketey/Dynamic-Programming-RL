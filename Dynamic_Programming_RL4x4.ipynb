{
 "cells": [
  {
   "cell_type": "code",
   "execution_count": 1,
   "metadata": {},
   "outputs": [],
   "source": [
    "import numpy as np\n",
    "import matplotlib.pyplot as plt\n",
    "%matplotlib inline\n",
    "import seaborn as sns\n",
    "from IPython import display\n",
    "import keras\n",
    "from keras.layers import Dense, Activation\n",
    "from keras.models import Sequential\n",
    "import tensorflow as tf"
   ]
  },
  {
   "cell_type": "code",
   "execution_count": 2,
   "metadata": {},
   "outputs": [
    {
     "name": "stdout",
     "output_type": "stream",
     "text": [
      "Observation space: Discrete(16)\n",
      "Action space: Discrete(4)\n",
      "observation space: Discrete(16)\n",
      "action space: Discrete(4)\n",
      "taking action\n",
      "new observation code: 4\n",
      "reward: 0.0\n",
      "is game over?: False\n"
     ]
    }
   ],
   "source": [
    "import gym\n",
    "\n",
    "env = gym.make(\"FrozenLake-v0\")\n",
    "env.reset()\n",
    "\n",
    "#plt.imshow(env.render('rgb_array'))\n",
    "print(\"Observation space:\", env.observation_space)\n",
    "print(\"Action space:\", env.action_space)\n",
    "print('observation space:', env.observation_space)\n",
    "print('action space:', env.action_space)\n",
    "print(\"taking action\")\n",
    "new_obs, reward, is_done, _ = env.step(1)\n",
    "\n",
    "print(\"new observation code:\", new_obs)\n",
    "print(\"reward:\", reward)\n",
    "print(\"is game over?:\", is_done)\n"
   ]
  },
  {
   "cell_type": "code",
   "execution_count": 3,
   "metadata": {
    "scrolled": true
   },
   "outputs": [
    {
     "name": "stdout",
     "output_type": "stream",
     "text": [
      "Number of States:  16\n",
      "Number of Actions:  4\n"
     ]
    }
   ],
   "source": [
    "n_states = env.observation_space.n\n",
    "n_actions = env.action_space.n\n",
    "print(\"Number of States: \", n_states)\n",
    "print(\"Number of Actions: \", n_actions)"
   ]
  },
  {
   "cell_type": "code",
   "execution_count": 4,
   "metadata": {},
   "outputs": [
    {
     "name": "stdout",
     "output_type": "stream",
     "text": [
      "Shape of Policy Matrix (16, 4)\n"
     ]
    }
   ],
   "source": [
    "#Input policy to be evaluated\n",
    "\n",
    "policy = np.ones((n_states , n_actions))/n_actions\n",
    "print(\"Shape of Policy Matrix\" , policy.shape)\n",
    "\n",
    "#Initialize array V(s) = 0\n",
    "\n",
    "V = np.zeros(n_states)\n",
    "discount_factor = 1.0\n",
    "theta = 0.00001"
   ]
  },
  {
   "cell_type": "code",
   "execution_count": 5,
   "metadata": {},
   "outputs": [
    {
     "data": {
      "text/plain": [
       "\"\\nFormula:\\n      V = sum(prob(s', r|s,a)) * (reward + gamma*V(s')) \\n\""
      ]
     },
     "execution_count": 5,
     "metadata": {},
     "output_type": "execute_result"
    }
   ],
   "source": [
    "#Helper function which calculates the value for all actions\n",
    "def one_step_lookahead(state , V , discount_factor = 1.0):\n",
    "    v = np.zeros(n_actions)\n",
    "    for a in range(n_actions):\n",
    "        for prob, next_state, reward, done  in env.P[state][a]:\n",
    "            v[a] = prob*(reward+discount_factor*V[next_state])\n",
    "    return v\n",
    "\"\"\"\n",
    "Formula:\n",
    "      V = sum(prob(s', r|s,a)) * (reward + gamma*V(s')) \n",
    "\"\"\""
   ]
  },
  {
   "cell_type": "markdown",
   "metadata": {},
   "source": [
    "### Policy Evaluation"
   ]
  },
  {
   "cell_type": "code",
   "execution_count": 6,
   "metadata": {},
   "outputs": [],
   "source": [
    "def policy_evaluation(policy, env, discount_factor = 1.0 , theta = 0.00001 ):\n",
    "    #Repeat:\n",
    "    while True:\n",
    "        delta = 0.0        #delta <- 0\n",
    "    \n",
    "        for s in range(n_states):   #For each state:\n",
    "            v = 0\n",
    "            for a , policy_prob in enumerate(policy[s]):                            #Expression---\n",
    "                for prob, next_state, reward, done  in env.P[s][a]:\n",
    "                    v += policy_prob * prob *(reward + discount_factor*V[next_state])     # V(s) = sum(policy(a|s) * sum(prob(s', r|s,a)) * (reward + gamma*V(s')) \n",
    "            delta = max(delta , abs(v - V[s]))            #delta <- max(delta , |v - V[s]|)\n",
    "            V[s] = v\n",
    "\n",
    "        if(delta<theta):                    #terminate on delta < theta (theta is a small positive number)\n",
    "            break\n",
    "    return V\n",
    "        # Output V ~= vpi"
   ]
  },
  {
   "cell_type": "code",
   "execution_count": 7,
   "metadata": {},
   "outputs": [
    {
     "name": "stdout",
     "output_type": "stream",
     "text": [
      "Value:  [0.013911   0.01161424 0.02094062 0.01046758 0.01623478 0.\n",
      " 0.04074774 0.         0.03479961 0.08816698 0.14205099 0.\n",
      " 0.         0.17581855 0.4392897  0.        ]\n"
     ]
    },
    {
     "data": {
      "image/png": "[encoded data removed]",
      "text/plain": [
       "<Figure size 576x576 with 1 Axes>"
      ]
     },
     "metadata": {
      "needs_background": "light"
     },
     "output_type": "display_data"
    }
   ],
   "source": [
    "vpi = policy_evaluation(policy , env) \n",
    "print(\"Value: \" , vpi)\n",
    "plt.figure(figsize=(8, 8))\n",
    "sns.heatmap(vpi.reshape(4, 4),  cmap=\"YlGnBu\", annot=True, cbar=False, square=True);"
   ]
  },
  {
   "cell_type": "markdown",
   "metadata": {},
   "source": [
    "### Policy Iteration"
   ]
  },
  {
   "cell_type": "code",
   "execution_count": 8,
   "metadata": {},
   "outputs": [],
   "source": [
    "def policy_iteration(env , discount_factor=1.0):\n",
    "    #1. Initialization\n",
    "    policy = np.ones((n_states , n_actions))/n_actions\n",
    "\n",
    "    while True:\n",
    "        #2. Policy Evaluation\n",
    "        V = policy_evaluation(policy , env) \n",
    "    \n",
    "        #3. Policy Improvement\n",
    "        policy_stable = True\n",
    "        \n",
    "        for s in range(n_states):  #for each s in States\n",
    "            old_action = np.argmax(policy[s])            #old_action <- policy[s]\n",
    "            best_action = np.argmax(one_step_lookahead(s , V))  #policy[s]<- sum(prob(s', r|s,a)) * (reward + gamma*V(s')) \n",
    "            if old_action != best_action:           #if old-action != policy(s), then policy-stable -> false\n",
    "                policy_stable = False \n",
    "            policy[s] = np.eye(n_actions)[best_action]   #(Making the index of policy for the best action as 1)\n",
    "        if policy_stable:         #if policy-stable, then stop and return V  and policy   \n",
    "            return policy, V"
   ]
  },
  {
   "cell_type": "code",
   "execution_count": 9,
   "metadata": {},
   "outputs": [
    {
     "name": "stdout",
     "output_type": "stream",
     "text": [
      "Policy:  [[1. 0. 0. 0.]\n",
      " [0. 1. 0. 0.]\n",
      " [1. 0. 0. 0.]\n",
      " [0. 0. 0. 1.]\n",
      " [1. 0. 0. 0.]\n",
      " [1. 0. 0. 0.]\n",
      " [1. 0. 0. 0.]\n",
      " [1. 0. 0. 0.]\n",
      " [0. 1. 0. 0.]\n",
      " [1. 0. 0. 0.]\n",
      " [1. 0. 0. 0.]\n",
      " [1. 0. 0. 0.]\n",
      " [1. 0. 0. 0.]\n",
      " [0. 1. 0. 0.]\n",
      " [0. 1. 0. 0.]\n",
      " [1. 0. 0. 0.]]\n",
      "Value:  [0.06661261 0.0537382  0.09460525 0.09459515 0.06663701 0.\n",
      " 0.13547681 0.         0.06666667 0.13333333 0.3118256  0.\n",
      " 0.         0.33333333 0.66666667 0.        ]\n"
     ]
    },
    {
     "data": {
      "image/png": "[encoded data removed]",
      "text/plain": [
       "<Figure size 576x576 with 1 Axes>"
      ]
     },
     "metadata": {
      "needs_background": "light"
     },
     "output_type": "display_data"
    }
   ],
   "source": [
    "policy , V = policy_iteration(env)\n",
    "print(\"Policy: \", policy)\n",
    "print(\"Value: \" , V)\n",
    "plt.figure(figsize=(8, 8))\n",
    "sns.heatmap(V.reshape(4, 4),  cmap=\"YlGnBu\", annot=True, cbar=False, square=True);"
   ]
  },
  {
   "cell_type": "markdown",
   "metadata": {},
   "source": [
    "### Value Iteration"
   ]
  },
  {
   "cell_type": "code",
   "execution_count": 10,
   "metadata": {},
   "outputs": [],
   "source": [
    "def value_iteration(env , discount_factor = 1.0 , theta = 0.00001 ):\n",
    "    V = np.zeros(n_states)     #Initialize array V arbitrarily\n",
    "    \n",
    "    #Repeat\n",
    "    while True:    \n",
    "        delta = 0.0        #delta <- 0\n",
    "        for s in range(n_states):   #For each s in state:\n",
    "            v = V[s]               # v <- V(s)\n",
    "            V[s] = max(one_step_lookahead(s, V , discount_factor = discount_factor))  # V(s) = max(sum(prob(s', r|s,a)) * (reward + gamma*V(s'))) \n",
    "            delta = max(delta , abs(v - V[s]))            #delta <- max(delta , |v - V[s]|)\n",
    "            \n",
    "        if(delta<theta):                    #terminate on delta < theta (theta is a small positive number)\n",
    "            break\n",
    "\n",
    "    #Output a deterministic policy pi such that:\n",
    "    policy = np.zeros((n_states, n_actions))\n",
    "\n",
    "    for s in range(n_states):\n",
    "        best_action = np.argmax(one_step_lookahead(s , V))\n",
    "        policy[s] = np.eye(n_actions)[best_action]\n",
    "    \n",
    "    return policy, V"
   ]
  },
  {
   "cell_type": "code",
   "execution_count": 11,
   "metadata": {},
   "outputs": [
    {
     "name": "stdout",
     "output_type": "stream",
     "text": [
      "Policy:  [[1. 0. 0. 0.]\n",
      " [0. 1. 0. 0.]\n",
      " [1. 0. 0. 0.]\n",
      " [0. 0. 0. 1.]\n",
      " [1. 0. 0. 0.]\n",
      " [1. 0. 0. 0.]\n",
      " [1. 0. 0. 0.]\n",
      " [1. 0. 0. 0.]\n",
      " [0. 1. 0. 0.]\n",
      " [1. 0. 0. 0.]\n",
      " [1. 0. 0. 0.]\n",
      " [1. 0. 0. 0.]\n",
      " [1. 0. 0. 0.]\n",
      " [0. 1. 0. 0.]\n",
      " [0. 1. 0. 0.]\n",
      " [1. 0. 0. 0.]]\n",
      "Value:  [0.00137174 0.00411523 0.01234568 0.00411523 0.00411523 0.\n",
      " 0.03703704 0.         0.01234568 0.03703704 0.11111111 0.\n",
      " 0.         0.11111111 0.33333333 0.        ]\n"
     ]
    },
    {
     "data": {
      "image/png": "[encoded data removed]",
      "text/plain": [
       "<Figure size 576x576 with 1 Axes>"
      ]
     },
     "metadata": {
      "needs_background": "light"
     },
     "output_type": "display_data"
    }
   ],
   "source": [
    "policy , V = value_iteration(env)\n",
    "print(\"Policy: \", policy)\n",
    "print(\"Value: \" , V)\n",
    "plt.figure(figsize=(8, 8))\n",
    "sns.heatmap(V.reshape(4, 4),  cmap=\"YlGnBu\", annot=True, cbar=False, square=True);"
   ]
  },
  {
   "cell_type": "code",
   "execution_count": null,
   "metadata": {},
   "outputs": [
    {
     "name": "stdout",
     "output_type": "stream",
     "text": [
      "38\n",
      "  (Down)\n",
      "SFFF\n",
      "FHFH\n",
      "FFFH\n",
      "\u001b[41mH\u001b[0mFFG\n"
     ]
    },
    {
     "name": "stderr",
     "output_type": "stream",
     "text": [
      "ERROR:root:Internal Python error in the inspect module.\n",
      "Below is the traceback from this internal error.\n",
      "\n"
     ]
    },
    {
     "name": "stdout",
     "output_type": "stream",
     "text": [
      "Traceback (most recent call last):\n",
      "  File \"C:\\Users\\user1\\anaconda3\\lib\\site-packages\\IPython\\core\\interactiveshell.py\", line 3418, in run_code\n",
      "    exec(code_obj, self.user_global_ns, self.user_ns)\n",
      "  File \"<ipython-input-13-bdfc3969f93e>\", line 15, in <module>\n",
      "    display.clear_output(wait=True)\n",
      "  File \"C:\\Users\\user1\\anaconda3\\lib\\site-packages\\IPython\\core\\display.py\", line 1464, in clear_output\n",
      "    InteractiveShell.instance().display_pub.clear_output(wait)\n",
      "  File \"C:\\Users\\user1\\anaconda3\\lib\\site-packages\\ipykernel\\zmqshell.py\", line 157, in clear_output\n",
      "    self._flush_streams()\n",
      "  File \"C:\\Users\\user1\\anaconda3\\lib\\site-packages\\ipykernel\\zmqshell.py\", line 80, in _flush_streams\n",
      "    sys.stderr.flush()\n",
      "  File \"C:\\Users\\user1\\anaconda3\\lib\\site-packages\\ipykernel\\iostream.py\", line 352, in flush\n",
      "    if not evt.wait(self.flush_timeout):\n",
      "  File \"C:\\Users\\user1\\anaconda3\\lib\\threading.py\", line 558, in wait\n",
      "    signaled = self._cond.wait(timeout)\n",
      "  File \"C:\\Users\\user1\\anaconda3\\lib\\threading.py\", line 306, in wait\n",
      "    gotit = waiter.acquire(True, timeout)\n",
      "KeyboardInterrupt\n",
      "\n",
      "During handling of the above exception, another exception occurred:\n",
      "\n",
      "Traceback (most recent call last):\n",
      "  File \"C:\\Users\\user1\\anaconda3\\lib\\site-packages\\IPython\\core\\interactiveshell.py\", line 2045, in showtraceback\n",
      "    stb = value._render_traceback_()\n",
      "AttributeError: 'KeyboardInterrupt' object has no attribute '_render_traceback_'\n",
      "\n",
      "During handling of the above exception, another exception occurred:\n",
      "\n",
      "Traceback (most recent call last):\n",
      "  File \"C:\\Users\\user1\\anaconda3\\lib\\site-packages\\IPython\\core\\ultratb.py\", line 1170, in get_records\n",
      "    return _fixed_getinnerframes(etb, number_of_lines_of_context, tb_offset)\n",
      "  File \"C:\\Users\\user1\\anaconda3\\lib\\site-packages\\IPython\\core\\ultratb.py\", line 316, in wrapped\n",
      "    return f(*args, **kwargs)\n",
      "  File \"C:\\Users\\user1\\anaconda3\\lib\\site-packages\\IPython\\core\\ultratb.py\", line 350, in _fixed_getinnerframes\n",
      "    records = fix_frame_records_filenames(inspect.getinnerframes(etb, context))\n",
      "  File \"C:\\Users\\user1\\anaconda3\\lib\\inspect.py\", line 1503, in getinnerframes\n",
      "    frameinfo = (tb.tb_frame,) + getframeinfo(tb, context)\n",
      "  File \"C:\\Users\\user1\\anaconda3\\lib\\inspect.py\", line 1461, in getframeinfo\n",
      "    filename = getsourcefile(frame) or getfile(frame)\n",
      "  File \"C:\\Users\\user1\\anaconda3\\lib\\inspect.py\", line 708, in getsourcefile\n",
      "    if getattr(getmodule(object, filename), '__loader__', None) is not None:\n",
      "  File \"C:\\Users\\user1\\anaconda3\\lib\\inspect.py\", line 754, in getmodule\n",
      "    os.path.realpath(f)] = module.__name__\n",
      "  File \"C:\\Users\\user1\\anaconda3\\lib\\ntpath.py\", line 647, in realpath\n",
      "    path = _getfinalpathname(path)\n",
      "KeyboardInterrupt\n"
     ]
    },
    {
     "name": "stderr",
     "output_type": "stream",
     "text": [
      "ERROR:root:Internal Python error in the inspect module.\n",
      "Below is the traceback from this internal error.\n",
      "\n"
     ]
    },
    {
     "name": "stdout",
     "output_type": "stream",
     "text": [
      "Traceback (most recent call last):\n",
      "  File \"C:\\Users\\user1\\anaconda3\\lib\\site-packages\\IPython\\core\\interactiveshell.py\", line 3418, in run_code\n",
      "    exec(code_obj, self.user_global_ns, self.user_ns)\n",
      "  File \"<ipython-input-13-bdfc3969f93e>\", line 15, in <module>\n",
      "    display.clear_output(wait=True)\n",
      "  File \"C:\\Users\\user1\\anaconda3\\lib\\site-packages\\IPython\\core\\display.py\", line 1464, in clear_output\n",
      "    InteractiveShell.instance().display_pub.clear_output(wait)\n",
      "  File \"C:\\Users\\user1\\anaconda3\\lib\\site-packages\\ipykernel\\zmqshell.py\", line 157, in clear_output\n",
      "    self._flush_streams()\n",
      "  File \"C:\\Users\\user1\\anaconda3\\lib\\site-packages\\ipykernel\\zmqshell.py\", line 80, in _flush_streams\n",
      "    sys.stderr.flush()\n",
      "  File \"C:\\Users\\user1\\anaconda3\\lib\\site-packages\\ipykernel\\iostream.py\", line 352, in flush\n",
      "    if not evt.wait(self.flush_timeout):\n",
      "  File \"C:\\Users\\user1\\anaconda3\\lib\\threading.py\", line 558, in wait\n",
      "    signaled = self._cond.wait(timeout)\n",
      "  File \"C:\\Users\\user1\\anaconda3\\lib\\threading.py\", line 306, in wait\n",
      "    gotit = waiter.acquire(True, timeout)\n",
      "KeyboardInterrupt\n",
      "\n",
      "During handling of the above exception, another exception occurred:\n",
      "\n",
      "Traceback (most recent call last):\n",
      "  File \"C:\\Users\\user1\\anaconda3\\lib\\site-packages\\IPython\\core\\interactiveshell.py\", line 2045, in showtraceback\n",
      "    stb = value._render_traceback_()\n",
      "AttributeError: 'KeyboardInterrupt' object has no attribute '_render_traceback_'\n",
      "\n",
      "During handling of the above exception, another exception occurred:\n",
      "\n",
      "Traceback (most recent call last):\n",
      "  File \"C:\\Users\\user1\\anaconda3\\lib\\site-packages\\IPython\\core\\interactiveshell.py\", line 3338, in run_ast_nodes\n",
      "    if (await self.run_code(code, result,  async_=asy)):\n",
      "  File \"C:\\Users\\user1\\anaconda3\\lib\\site-packages\\IPython\\core\\interactiveshell.py\", line 3435, in run_code\n",
      "    self.showtraceback(running_compiled_code=True)\n",
      "  File \"C:\\Users\\user1\\anaconda3\\lib\\site-packages\\IPython\\core\\interactiveshell.py\", line 2047, in showtraceback\n",
      "    stb = self.InteractiveTB.structured_traceback(etype,\n",
      "  File \"C:\\Users\\user1\\anaconda3\\lib\\site-packages\\IPython\\core\\ultratb.py\", line 1436, in structured_traceback\n",
      "    return FormattedTB.structured_traceback(\n",
      "  File \"C:\\Users\\user1\\anaconda3\\lib\\site-packages\\IPython\\core\\ultratb.py\", line 1336, in structured_traceback\n",
      "    return VerboseTB.structured_traceback(\n",
      "  File \"C:\\Users\\user1\\anaconda3\\lib\\site-packages\\IPython\\core\\ultratb.py\", line 1193, in structured_traceback\n",
      "    formatted_exception = self.format_exception_as_a_whole(etype, evalue, etb, number_of_lines_of_context,\n",
      "  File \"C:\\Users\\user1\\anaconda3\\lib\\site-packages\\IPython\\core\\ultratb.py\", line 1151, in format_exception_as_a_whole\n",
      "    last_unique, recursion_repeat = find_recursion(orig_etype, evalue, records)\n",
      "  File \"C:\\Users\\user1\\anaconda3\\lib\\site-packages\\IPython\\core\\ultratb.py\", line 451, in find_recursion\n",
      "    return len(records), 0\n",
      "TypeError: object of type 'NoneType' has no len()\n",
      "\n",
      "During handling of the above exception, another exception occurred:\n",
      "\n",
      "Traceback (most recent call last):\n",
      "  File \"C:\\Users\\user1\\anaconda3\\lib\\site-packages\\IPython\\core\\interactiveshell.py\", line 2045, in showtraceback\n",
      "    stb = value._render_traceback_()\n",
      "AttributeError: 'TypeError' object has no attribute '_render_traceback_'\n",
      "\n",
      "During handling of the above exception, another exception occurred:\n",
      "\n",
      "Traceback (most recent call last):\n",
      "  File \"C:\\Users\\user1\\anaconda3\\lib\\site-packages\\IPython\\core\\ultratb.py\", line 1170, in get_records\n",
      "    return _fixed_getinnerframes(etb, number_of_lines_of_context, tb_offset)\n",
      "  File \"C:\\Users\\user1\\anaconda3\\lib\\site-packages\\IPython\\core\\ultratb.py\", line 316, in wrapped\n",
      "    return f(*args, **kwargs)\n",
      "  File \"C:\\Users\\user1\\anaconda3\\lib\\site-packages\\IPython\\core\\ultratb.py\", line 350, in _fixed_getinnerframes\n",
      "    records = fix_frame_records_filenames(inspect.getinnerframes(etb, context))\n",
      "  File \"C:\\Users\\user1\\anaconda3\\lib\\inspect.py\", line 1503, in getinnerframes\n",
      "    frameinfo = (tb.tb_frame,) + getframeinfo(tb, context)\n",
      "  File \"C:\\Users\\user1\\anaconda3\\lib\\inspect.py\", line 1461, in getframeinfo\n",
      "    filename = getsourcefile(frame) or getfile(frame)\n",
      "  File \"C:\\Users\\user1\\anaconda3\\lib\\inspect.py\", line 708, in getsourcefile\n",
      "    if getattr(getmodule(object, filename), '__loader__', None) is not None:\n",
      "  File \"C:\\Users\\user1\\anaconda3\\lib\\inspect.py\", line 754, in getmodule\n",
      "    os.path.realpath(f)] = module.__name__\n",
      "  File \"C:\\Users\\user1\\anaconda3\\lib\\ntpath.py\", line 647, in realpath\n",
      "    path = _getfinalpathname(path)\n",
      "KeyboardInterrupt\n"
     ]
    },
    {
     "name": "stderr",
     "output_type": "stream",
     "text": [
      "ERROR:root:Internal Python error in the inspect module.\n",
      "Below is the traceback from this internal error.\n",
      "\n"
     ]
    },
    {
     "name": "stdout",
     "output_type": "stream",
     "text": [
      "Traceback (most recent call last):\n",
      "  File \"C:\\Users\\user1\\anaconda3\\lib\\site-packages\\IPython\\core\\interactiveshell.py\", line 3418, in run_code\n",
      "    exec(code_obj, self.user_global_ns, self.user_ns)\n",
      "  File \"<ipython-input-13-bdfc3969f93e>\", line 15, in <module>\n",
      "    display.clear_output(wait=True)\n",
      "  File \"C:\\Users\\user1\\anaconda3\\lib\\site-packages\\IPython\\core\\display.py\", line 1464, in clear_output\n",
      "    InteractiveShell.instance().display_pub.clear_output(wait)\n",
      "  File \"C:\\Users\\user1\\anaconda3\\lib\\site-packages\\ipykernel\\zmqshell.py\", line 157, in clear_output\n",
      "    self._flush_streams()\n",
      "  File \"C:\\Users\\user1\\anaconda3\\lib\\site-packages\\ipykernel\\zmqshell.py\", line 80, in _flush_streams\n",
      "    sys.stderr.flush()\n",
      "  File \"C:\\Users\\user1\\anaconda3\\lib\\site-packages\\ipykernel\\iostream.py\", line 352, in flush\n",
      "    if not evt.wait(self.flush_timeout):\n",
      "  File \"C:\\Users\\user1\\anaconda3\\lib\\threading.py\", line 558, in wait\n",
      "    signaled = self._cond.wait(timeout)\n",
      "  File \"C:\\Users\\user1\\anaconda3\\lib\\threading.py\", line 306, in wait\n",
      "    gotit = waiter.acquire(True, timeout)\n",
      "KeyboardInterrupt\n",
      "\n",
      "During handling of the above exception, another exception occurred:\n",
      "\n",
      "Traceback (most recent call last):\n",
      "  File \"C:\\Users\\user1\\anaconda3\\lib\\site-packages\\IPython\\core\\interactiveshell.py\", line 2045, in showtraceback\n",
      "    stb = value._render_traceback_()\n",
      "AttributeError: 'KeyboardInterrupt' object has no attribute '_render_traceback_'\n",
      "\n",
      "During handling of the above exception, another exception occurred:\n",
      "\n",
      "Traceback (most recent call last):\n",
      "  File \"C:\\Users\\user1\\anaconda3\\lib\\site-packages\\IPython\\core\\interactiveshell.py\", line 3338, in run_ast_nodes\n",
      "    if (await self.run_code(code, result,  async_=asy)):\n",
      "  File \"C:\\Users\\user1\\anaconda3\\lib\\site-packages\\IPython\\core\\interactiveshell.py\", line 3435, in run_code\n",
      "    self.showtraceback(running_compiled_code=True)\n",
      "  File \"C:\\Users\\user1\\anaconda3\\lib\\site-packages\\IPython\\core\\interactiveshell.py\", line 2047, in showtraceback\n",
      "    stb = self.InteractiveTB.structured_traceback(etype,\n",
      "  File \"C:\\Users\\user1\\anaconda3\\lib\\site-packages\\IPython\\core\\ultratb.py\", line 1436, in structured_traceback\n",
      "    return FormattedTB.structured_traceback(\n",
      "  File \"C:\\Users\\user1\\anaconda3\\lib\\site-packages\\IPython\\core\\ultratb.py\", line 1336, in structured_traceback\n",
      "    return VerboseTB.structured_traceback(\n",
      "  File \"C:\\Users\\user1\\anaconda3\\lib\\site-packages\\IPython\\core\\ultratb.py\", line 1193, in structured_traceback\n",
      "    formatted_exception = self.format_exception_as_a_whole(etype, evalue, etb, number_of_lines_of_context,\n",
      "  File \"C:\\Users\\user1\\anaconda3\\lib\\site-packages\\IPython\\core\\ultratb.py\", line 1151, in format_exception_as_a_whole\n",
      "    last_unique, recursion_repeat = find_recursion(orig_etype, evalue, records)\n",
      "  File \"C:\\Users\\user1\\anaconda3\\lib\\site-packages\\IPython\\core\\ultratb.py\", line 451, in find_recursion\n",
      "    return len(records), 0\n",
      "TypeError: object of type 'NoneType' has no len()\n",
      "\n",
      "During handling of the above exception, another exception occurred:\n",
      "\n",
      "Traceback (most recent call last):\n",
      "  File \"C:\\Users\\user1\\anaconda3\\lib\\site-packages\\IPython\\core\\interactiveshell.py\", line 2045, in showtraceback\n",
      "    stb = value._render_traceback_()\n",
      "AttributeError: 'TypeError' object has no attribute '_render_traceback_'\n",
      "\n",
      "During handling of the above exception, another exception occurred:\n",
      "\n",
      "Traceback (most recent call last):\n",
      "  File \"C:\\Users\\user1\\anaconda3\\lib\\site-packages\\IPython\\core\\interactiveshell.py\", line 2923, in _run_cell\n",
      "    return runner(coro)\n",
      "  File \"C:\\Users\\user1\\anaconda3\\lib\\site-packages\\IPython\\core\\async_helpers.py\", line 68, in _pseudo_sync_runner\n",
      "    coro.send(None)\n",
      "  File \"C:\\Users\\user1\\anaconda3\\lib\\site-packages\\IPython\\core\\interactiveshell.py\", line 3146, in run_cell_async\n",
      "    has_raised = await self.run_ast_nodes(code_ast.body, cell_name,\n",
      "  File \"C:\\Users\\user1\\anaconda3\\lib\\site-packages\\IPython\\core\\interactiveshell.py\", line 3357, in run_ast_nodes\n",
      "    self.showtraceback()\n",
      "  File \"C:\\Users\\user1\\anaconda3\\lib\\site-packages\\IPython\\core\\interactiveshell.py\", line 2047, in showtraceback\n",
      "    stb = self.InteractiveTB.structured_traceback(etype,\n",
      "  File \"C:\\Users\\user1\\anaconda3\\lib\\site-packages\\IPython\\core\\ultratb.py\", line 1436, in structured_traceback\n",
      "    return FormattedTB.structured_traceback(\n",
      "  File \"C:\\Users\\user1\\anaconda3\\lib\\site-packages\\IPython\\core\\ultratb.py\", line 1336, in structured_traceback\n",
      "    return VerboseTB.structured_traceback(\n",
      "  File \"C:\\Users\\user1\\anaconda3\\lib\\site-packages\\IPython\\core\\ultratb.py\", line 1211, in structured_traceback\n",
      "    formatted_exceptions += self.format_exception_as_a_whole(etype, evalue, etb, lines_of_context,\n",
      "  File \"C:\\Users\\user1\\anaconda3\\lib\\site-packages\\IPython\\core\\ultratb.py\", line 1151, in format_exception_as_a_whole\n",
      "    last_unique, recursion_repeat = find_recursion(orig_etype, evalue, records)\n",
      "  File \"C:\\Users\\user1\\anaconda3\\lib\\site-packages\\IPython\\core\\ultratb.py\", line 451, in find_recursion\n",
      "    return len(records), 0\n",
      "TypeError: object of type 'NoneType' has no len()\n",
      "\n",
      "During handling of the above exception, another exception occurred:\n",
      "\n",
      "Traceback (most recent call last):\n",
      "  File \"C:\\Users\\user1\\anaconda3\\lib\\site-packages\\IPython\\core\\interactiveshell.py\", line 2045, in showtraceback\n",
      "    stb = value._render_traceback_()\n",
      "AttributeError: 'TypeError' object has no attribute '_render_traceback_'\n",
      "\n",
      "During handling of the above exception, another exception occurred:\n",
      "\n",
      "Traceback (most recent call last):\n",
      "  File \"C:\\Users\\user1\\anaconda3\\lib\\site-packages\\IPython\\core\\ultratb.py\", line 1170, in get_records\n",
      "    return _fixed_getinnerframes(etb, number_of_lines_of_context, tb_offset)\n",
      "  File \"C:\\Users\\user1\\anaconda3\\lib\\site-packages\\IPython\\core\\ultratb.py\", line 316, in wrapped\n",
      "    return f(*args, **kwargs)\n",
      "  File \"C:\\Users\\user1\\anaconda3\\lib\\site-packages\\IPython\\core\\ultratb.py\", line 350, in _fixed_getinnerframes\n",
      "    records = fix_frame_records_filenames(inspect.getinnerframes(etb, context))\n",
      "  File \"C:\\Users\\user1\\anaconda3\\lib\\inspect.py\", line 1503, in getinnerframes\n",
      "    frameinfo = (tb.tb_frame,) + getframeinfo(tb, context)\n",
      "  File \"C:\\Users\\user1\\anaconda3\\lib\\inspect.py\", line 1461, in getframeinfo\n",
      "    filename = getsourcefile(frame) or getfile(frame)\n",
      "  File \"C:\\Users\\user1\\anaconda3\\lib\\inspect.py\", line 708, in getsourcefile\n",
      "    if getattr(getmodule(object, filename), '__loader__', None) is not None:\n",
      "  File \"C:\\Users\\user1\\anaconda3\\lib\\inspect.py\", line 754, in getmodule\n",
      "    os.path.realpath(f)] = module.__name__\n",
      "  File \"C:\\Users\\user1\\anaconda3\\lib\\ntpath.py\", line 639, in realpath\n",
      "    cwd = os.getcwd()\n",
      "KeyboardInterrupt\n"
     ]
    }
   ],
   "source": [
    "display.clear_output(wait=True)\n",
    "\n",
    "total_reward = 0\n",
    "total_wins = 0\n",
    "policy, V = value_iteration(env)              #Your iteration method here\n",
    "for t in range(1000):          #Running for 1000 iterations\n",
    "    \n",
    "    is_done = False\n",
    "    state = env.reset()\n",
    "    \n",
    "    while is_done==False:\n",
    "        action = np.argmax(policy[state])     #Selecting best action from policy\n",
    "        obs , reward , is_done , info = env.step(action)\n",
    "        env.render()\n",
    "        display.clear_output(wait=True)\n",
    "        total_reward += reward\n",
    "        state = obs          #Chaning the state to the new obtained observation\n",
    "        print(total_wins)\n",
    "        if is_done and reward==1.0:\n",
    "            print(\"Won a Game\")\n",
    "            total_wins+=1\n",
    "            break\n",
    "print(\"Total Reward/Wins: \", total_reward)"
   ]
  },
  {
   "cell_type": "code",
   "execution_count": null,
   "metadata": {},
   "outputs": [],
   "source": []
  }
 ],
 "metadata": {
  "kernelspec": {
   "display_name": "Python 3",
   "language": "python",
   "name": "python3"
  },
  "language_info": {
   "codemirror_mode": {
    "name": "ipython",
    "version": 3
   },
   "file_extension": ".py",
   "mimetype": "text/x-python",
   "name": "python",
   "nbconvert_exporter": "python",
   "pygments_lexer": "ipython3",
   "version": "3.8.5"
  }
 },
 "nbformat": 4,
 "nbformat_minor": 2
}
